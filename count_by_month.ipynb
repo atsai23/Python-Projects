{
 "cells": [
  {
   "cell_type": "code",
   "execution_count": 1,
   "id": "checked-grenada",
   "metadata": {},
   "outputs": [
    {
     "name": "stdout",
     "output_type": "stream",
     "text": [
      "                contacts\n",
      "date_canvassed          \n",
      "2020-01-31          4857\n",
      "2020-02-29          9605\n",
      "2020-03-31         14142\n",
      "2020-04-30         16713\n",
      "2020-05-31         20725\n",
      "2020-06-30         22980\n",
      "2020-07-31           816\n"
     ]
    }
   ],
   "source": [
    "import datetime\n",
    "import pandas as pd\n",
    "\n",
    "#import .csv from BigQuery, convert date_canvassed to datetime from string\n",
    "day_counts = pd.read_csv ('C:/Users/Anna/Documents/bq_export_daycounts.csv', converters = {'date_canvassed':pd.to_datetime})\n",
    "\n",
    "#use grouper to group by weeks\n",
    "week_counts = day_counts.groupby(pd.Grouper(key = 'date_canvassed', freq = '1M')).sum()\n",
    "print(week_counts)\n",
    "\n",
    "#export to csv\n",
    "from pathlib import Path  \n",
    "filepath = Path('C:/Users/Anna/Documents/month_out.csv')  \n",
    "filepath.parent.mkdir(parents=True, exist_ok=True)  \n",
    "week_counts.to_csv(filepath)"
   ]
  },
  {
   "cell_type": "code",
   "execution_count": null,
   "id": "worse-breakdown",
   "metadata": {},
   "outputs": [],
   "source": [
    "for date in date_range:\n",
    "    week_number += 1\n",
    "    week_name = 'Week {}'.format(week_number)\n",
    "    for day in day_counts.keys():\n",
    "        if day < date:\n",
    "            week_counts[week_name] += day_counts[day]"
   ]
  }
 ],
 "metadata": {
  "kernelspec": {
   "display_name": "Python 3",
   "language": "python",
   "name": "python3"
  },
  "language_info": {
   "codemirror_mode": {
    "name": "ipython",
    "version": 3
   },
   "file_extension": ".py",
   "mimetype": "text/x-python",
   "name": "python",
   "nbconvert_exporter": "python",
   "pygments_lexer": "ipython3",
   "version": "3.9.2"
  }
 },
 "nbformat": 4,
 "nbformat_minor": 5
}
